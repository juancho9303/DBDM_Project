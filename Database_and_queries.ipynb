{
 "cells": [
  {
   "cell_type": "markdown",
   "metadata": {},
   "source": [
    "# 1. A database for a time-domain survey (Creation of my database)"
   ]
  },
  {
   "cell_type": "code",
   "execution_count": 8,
   "metadata": {
    "collapsed": false
   },
   "outputs": [
    {
     "name": "stdout",
     "output_type": "stream",
     "text": [
      "Using matplotlib backend: Qt4Agg\n",
      "Populating the interactive namespace from numpy and matplotlib\n"
     ]
    }
   ],
   "source": [
    "%pylab\n",
    "# IPython has a built-in mode to work cleanly with matplotlib figures, this is one way to invoke it."
   ]
  },
  {
   "cell_type": "code",
   "execution_count": 9,
   "metadata": {
    "collapsed": true
   },
   "outputs": [],
   "source": [
    "import sqlite3 as sq\n",
    "from astropy.table import vstack, Table\n",
    "import glob\n",
    "import os\n",
    "import pandas as pd\n",
    "import numpy as np\n",
    "# Import neccessary libraries\n",
    "%matplotlib inline "
   ]
  },
  {
   "cell_type": "code",
   "execution_count": 10,
   "metadata": {
    "collapsed": false
   },
   "outputs": [],
   "source": [
    "import seaborn as sns #nice plots\n",
    "sns.set(style=\"white\")"
   ]
  },
  {
   "cell_type": "code",
   "execution_count": 11,
   "metadata": {
    "collapsed": false
   },
   "outputs": [],
   "source": [
    "info = Table.read('/home/juancho/Master/Semester3/DBDM/DDM2017_FinalProject/FinalProject/Q1/Tables/file_info_for_problem.csv',format='ascii.csv')\n",
    "# Read the information file with the headers of the files (this is my laptop's path to the files)"
   ]
  },
  {
   "cell_type": "code",
   "execution_count": 12,
   "metadata": {
    "collapsed": false
   },
   "outputs": [
    {
     "data": {
      "text/html": [
       "&lt;Table length=18&gt;\n",
       "<table id=\"table140628635946064\" class=\"table-striped table-bordered table-condensed\">\n",
       "<thead><tr><th>ID</th><th>FieldID</th><th>Filename</th><th>Filter</th><th>MJD</th><th>Airmass</th><th>Exptime</th></tr></thead>\n",
       "<thead><tr><th>int64</th><th>int64</th><th>str36</th><th>str2</th><th>float64</th><th>float64</th><th>float64</th></tr></thead>\n",
       "<tr><td>1</td><td>1</td><td>Z-ADP.2017-01-18T11:58:36.905.fits</td><td>Z</td><td>57267.1671072</td><td>1.6405</td><td>40.0</td></tr>\n",
       "<tr><td>2</td><td>1</td><td>J-ADP.2017-01-18T11:58:35.781.fits</td><td>J</td><td>57257.0504323</td><td>1.0105</td><td>48.0</td></tr>\n",
       "<tr><td>3</td><td>1</td><td>H-ADP.2017-01-18T11:58:35.780.fits</td><td>H</td><td>57257.044108</td><td>1.006</td><td>16.0</td></tr>\n",
       "<tr><td>4</td><td>1</td><td>Ks-ADP.2016-05-25T15:33:39.546.fits</td><td>Ks</td><td>56788.346937</td><td>1.023</td><td>16.0</td></tr>\n",
       "<tr><td>5</td><td>1</td><td>Ks-ADP.2017-01-18T11:58:39.907.fits</td><td>Ks</td><td>56561.0020158</td><td>1.079</td><td>16.0</td></tr>\n",
       "<tr><td>6</td><td>1</td><td>Ks-ADP.2016-05-25T15:33:43.377.fits</td><td>Ks</td><td>56829.0390512</td><td>1.6085</td><td>16.0</td></tr>\n",
       "<tr><td>7</td><td>1</td><td>Y-ADP.2017-01-18T11:58:36.901.fits</td><td>Y</td><td>57267.1596647</td><td>1.5605</td><td>40.0</td></tr>\n",
       "<tr><td>8</td><td>2</td><td>Z-ADP.2017-01-18T11:58:36.905b.fits</td><td>Z</td><td>57268.1671072</td><td>1.6405</td><td>40.0</td></tr>\n",
       "<tr><td>9</td><td>2</td><td>J-ADP.2017-01-18T11:58:35.781b.fits</td><td>J</td><td>57258.0504323</td><td>1.0105</td><td>48.0</td></tr>\n",
       "<tr><td>10</td><td>2</td><td>H-ADP.2017-01-18T11:58:35.780b.fits</td><td>H</td><td>57258.044108</td><td>1.006</td><td>16.0</td></tr>\n",
       "<tr><td>11</td><td>2</td><td>Ks-ADP.2016-05-25T15:33:39.546b.fits</td><td>Ks</td><td>56789.346937</td><td>1.023</td><td>16.0</td></tr>\n",
       "<tr><td>12</td><td>2</td><td>Y-ADP.2017-01-18T11:58:36.901b.fits</td><td>Y</td><td>57268.1596647</td><td>1.5605</td><td>40.0</td></tr>\n",
       "<tr><td>13</td><td>3</td><td>Z-ADP.2017-01-18T11:58:36.905c.fits</td><td>Z</td><td>57268.1671072</td><td>1.6405</td><td>40.0</td></tr>\n",
       "<tr><td>14</td><td>3</td><td>J-ADP.2017-01-18T11:58:35.781c.fits</td><td>J</td><td>57258.0504323</td><td>1.0105</td><td>48.0</td></tr>\n",
       "<tr><td>15</td><td>3</td><td>H-ADP.2017-01-18T11:58:35.780c.fits</td><td>H</td><td>57258.044108</td><td>1.006</td><td>16.0</td></tr>\n",
       "<tr><td>16</td><td>3</td><td>Ks-ADP.2016-05-25T15:33:39.546c.fits</td><td>Ks</td><td>56789.346937</td><td>1.023</td><td>16.0</td></tr>\n",
       "<tr><td>17</td><td>3</td><td>Ks-ADP.2017-01-18T11:58:39.907c.fits</td><td>Ks</td><td>56562.0020158</td><td>1.079</td><td>16.0</td></tr>\n",
       "<tr><td>18</td><td>3</td><td>Y-ADP.2017-01-18T11:58:36.901c.fits</td><td>Y</td><td>57268.1596647</td><td>1.5605</td><td>40.0</td></tr>\n",
       "</table>"
      ],
      "text/plain": [
       "<Table length=18>\n",
       "  ID  FieldID               Filename               ... Airmass Exptime\n",
       "int64  int64                 str36                 ... float64 float64\n",
       "----- ------- ------------------------------------ ... ------- -------\n",
       "    1       1   Z-ADP.2017-01-18T11:58:36.905.fits ...  1.6405    40.0\n",
       "    2       1   J-ADP.2017-01-18T11:58:35.781.fits ...  1.0105    48.0\n",
       "    3       1   H-ADP.2017-01-18T11:58:35.780.fits ...   1.006    16.0\n",
       "    4       1  Ks-ADP.2016-05-25T15:33:39.546.fits ...   1.023    16.0\n",
       "    5       1  Ks-ADP.2017-01-18T11:58:39.907.fits ...   1.079    16.0\n",
       "    6       1  Ks-ADP.2016-05-25T15:33:43.377.fits ...  1.6085    16.0\n",
       "    7       1   Y-ADP.2017-01-18T11:58:36.901.fits ...  1.5605    40.0\n",
       "    8       2  Z-ADP.2017-01-18T11:58:36.905b.fits ...  1.6405    40.0\n",
       "    9       2  J-ADP.2017-01-18T11:58:35.781b.fits ...  1.0105    48.0\n",
       "   10       2  H-ADP.2017-01-18T11:58:35.780b.fits ...   1.006    16.0\n",
       "   11       2 Ks-ADP.2016-05-25T15:33:39.546b.fits ...   1.023    16.0\n",
       "   12       2  Y-ADP.2017-01-18T11:58:36.901b.fits ...  1.5605    40.0\n",
       "   13       3  Z-ADP.2017-01-18T11:58:36.905c.fits ...  1.6405    40.0\n",
       "   14       3  J-ADP.2017-01-18T11:58:35.781c.fits ...  1.0105    48.0\n",
       "   15       3  H-ADP.2017-01-18T11:58:35.780c.fits ...   1.006    16.0\n",
       "   16       3 Ks-ADP.2016-05-25T15:33:39.546c.fits ...   1.023    16.0\n",
       "   17       3 Ks-ADP.2017-01-18T11:58:39.907c.fits ...   1.079    16.0\n",
       "   18       3  Y-ADP.2017-01-18T11:58:36.901c.fits ...  1.5605    40.0"
      ]
     },
     "execution_count": 12,
     "metadata": {},
     "output_type": "execute_result"
    }
   ],
   "source": [
    "info\n",
    "# Simply show the information contained in the tables (not relevant in the process of creating of the table)"
   ]
  },
  {
   "cell_type": "code",
   "execution_count": 13,
   "metadata": {
    "collapsed": false
   },
   "outputs": [],
   "source": [
    "files = os.listdir(\"/home/juancho/Master/Semester3/DBDM/DDM2017_FinalProject/FinalProject/Q1/Tables\")\n",
    "\n",
    "# Create an empty array to add the real name of the files\n",
    "see_names = []\n",
    "\n",
    "# Fill the empty array with the names of the files that end with \".fits\"\n",
    "for names in files:\n",
    "    if names.endswith(\".fits\"):\n",
    "        see_names.append(names)"
   ]
  },
  {
   "cell_type": "code",
   "execution_count": 14,
   "metadata": {
    "collapsed": false
   },
   "outputs": [],
   "source": [
    "#see_names\n",
    "# This line is meant to simply show see_names in order to inspect by eye the names so they match"
   ]
  },
  {
   "cell_type": "code",
   "execution_count": 15,
   "metadata": {
    "collapsed": true
   },
   "outputs": [],
   "source": [
    "# Now, using the Julian date as a reference, I want to match the name of the files that were displayed\n",
    "# in the last line with their corresponding filename from the table.\n",
    "# To do so, I manually match them and create by hand a list with this file and add it to \"info\"\n",
    "\n",
    "names_to_match = ['Field-1-Z','Field-1-J','Field-1-H','Field-1-Ks-E002','Field-1-Ks-E001',\n",
    "            'Field-1-Ks-E003','Field-1-Y','Field-2-Z','Field-2-J','Field-2-H',\n",
    "            'Field-2-Ks-E001','Field-2-Y','Field-3-Z','Field-3-J','Field-3-H',\n",
    "             'Field-3-Ks-E002','Field-3-Ks-E001','Field-3-Y']"
   ]
  },
  {
   "cell_type": "code",
   "execution_count": 16,
   "metadata": {
    "collapsed": false
   },
   "outputs": [],
   "source": [
    "info['name_file'] = names_to_match\n",
    "# This command adds the new column with the other names of the files to \"info\""
   ]
  },
  {
   "cell_type": "code",
   "execution_count": 17,
   "metadata": {
    "collapsed": false
   },
   "outputs": [
    {
     "data": {
      "text/html": [
       "&lt;Table length=18&gt;\n",
       "<table id=\"table140628635946064\" class=\"table-striped table-bordered table-condensed\">\n",
       "<thead><tr><th>ID</th><th>FieldID</th><th>Filename</th><th>Filter</th><th>MJD</th><th>Airmass</th><th>Exptime</th><th>name_file</th></tr></thead>\n",
       "<thead><tr><th>int64</th><th>int64</th><th>str36</th><th>str2</th><th>float64</th><th>float64</th><th>float64</th><th>str15</th></tr></thead>\n",
       "<tr><td>1</td><td>1</td><td>Z-ADP.2017-01-18T11:58:36.905.fits</td><td>Z</td><td>57267.1671072</td><td>1.6405</td><td>40.0</td><td>Field-1-Z</td></tr>\n",
       "<tr><td>2</td><td>1</td><td>J-ADP.2017-01-18T11:58:35.781.fits</td><td>J</td><td>57257.0504323</td><td>1.0105</td><td>48.0</td><td>Field-1-J</td></tr>\n",
       "<tr><td>3</td><td>1</td><td>H-ADP.2017-01-18T11:58:35.780.fits</td><td>H</td><td>57257.044108</td><td>1.006</td><td>16.0</td><td>Field-1-H</td></tr>\n",
       "<tr><td>4</td><td>1</td><td>Ks-ADP.2016-05-25T15:33:39.546.fits</td><td>Ks</td><td>56788.346937</td><td>1.023</td><td>16.0</td><td>Field-1-Ks-E002</td></tr>\n",
       "<tr><td>5</td><td>1</td><td>Ks-ADP.2017-01-18T11:58:39.907.fits</td><td>Ks</td><td>56561.0020158</td><td>1.079</td><td>16.0</td><td>Field-1-Ks-E001</td></tr>\n",
       "<tr><td>6</td><td>1</td><td>Ks-ADP.2016-05-25T15:33:43.377.fits</td><td>Ks</td><td>56829.0390512</td><td>1.6085</td><td>16.0</td><td>Field-1-Ks-E003</td></tr>\n",
       "<tr><td>7</td><td>1</td><td>Y-ADP.2017-01-18T11:58:36.901.fits</td><td>Y</td><td>57267.1596647</td><td>1.5605</td><td>40.0</td><td>Field-1-Y</td></tr>\n",
       "<tr><td>8</td><td>2</td><td>Z-ADP.2017-01-18T11:58:36.905b.fits</td><td>Z</td><td>57268.1671072</td><td>1.6405</td><td>40.0</td><td>Field-2-Z</td></tr>\n",
       "<tr><td>9</td><td>2</td><td>J-ADP.2017-01-18T11:58:35.781b.fits</td><td>J</td><td>57258.0504323</td><td>1.0105</td><td>48.0</td><td>Field-2-J</td></tr>\n",
       "<tr><td>10</td><td>2</td><td>H-ADP.2017-01-18T11:58:35.780b.fits</td><td>H</td><td>57258.044108</td><td>1.006</td><td>16.0</td><td>Field-2-H</td></tr>\n",
       "<tr><td>11</td><td>2</td><td>Ks-ADP.2016-05-25T15:33:39.546b.fits</td><td>Ks</td><td>56789.346937</td><td>1.023</td><td>16.0</td><td>Field-2-Ks-E001</td></tr>\n",
       "<tr><td>12</td><td>2</td><td>Y-ADP.2017-01-18T11:58:36.901b.fits</td><td>Y</td><td>57268.1596647</td><td>1.5605</td><td>40.0</td><td>Field-2-Y</td></tr>\n",
       "<tr><td>13</td><td>3</td><td>Z-ADP.2017-01-18T11:58:36.905c.fits</td><td>Z</td><td>57268.1671072</td><td>1.6405</td><td>40.0</td><td>Field-3-Z</td></tr>\n",
       "<tr><td>14</td><td>3</td><td>J-ADP.2017-01-18T11:58:35.781c.fits</td><td>J</td><td>57258.0504323</td><td>1.0105</td><td>48.0</td><td>Field-3-J</td></tr>\n",
       "<tr><td>15</td><td>3</td><td>H-ADP.2017-01-18T11:58:35.780c.fits</td><td>H</td><td>57258.044108</td><td>1.006</td><td>16.0</td><td>Field-3-H</td></tr>\n",
       "<tr><td>16</td><td>3</td><td>Ks-ADP.2016-05-25T15:33:39.546c.fits</td><td>Ks</td><td>56789.346937</td><td>1.023</td><td>16.0</td><td>Field-3-Ks-E002</td></tr>\n",
       "<tr><td>17</td><td>3</td><td>Ks-ADP.2017-01-18T11:58:39.907c.fits</td><td>Ks</td><td>56562.0020158</td><td>1.079</td><td>16.0</td><td>Field-3-Ks-E001</td></tr>\n",
       "<tr><td>18</td><td>3</td><td>Y-ADP.2017-01-18T11:58:36.901c.fits</td><td>Y</td><td>57268.1596647</td><td>1.5605</td><td>40.0</td><td>Field-3-Y</td></tr>\n",
       "</table>"
      ],
      "text/plain": [
       "<Table length=18>\n",
       "  ID  FieldID               Filename               ... Exptime    name_file   \n",
       "int64  int64                 str36                 ... float64      str15     \n",
       "----- ------- ------------------------------------ ... ------- ---------------\n",
       "    1       1   Z-ADP.2017-01-18T11:58:36.905.fits ...    40.0       Field-1-Z\n",
       "    2       1   J-ADP.2017-01-18T11:58:35.781.fits ...    48.0       Field-1-J\n",
       "    3       1   H-ADP.2017-01-18T11:58:35.780.fits ...    16.0       Field-1-H\n",
       "    4       1  Ks-ADP.2016-05-25T15:33:39.546.fits ...    16.0 Field-1-Ks-E002\n",
       "    5       1  Ks-ADP.2017-01-18T11:58:39.907.fits ...    16.0 Field-1-Ks-E001\n",
       "    6       1  Ks-ADP.2016-05-25T15:33:43.377.fits ...    16.0 Field-1-Ks-E003\n",
       "    7       1   Y-ADP.2017-01-18T11:58:36.901.fits ...    40.0       Field-1-Y\n",
       "    8       2  Z-ADP.2017-01-18T11:58:36.905b.fits ...    40.0       Field-2-Z\n",
       "    9       2  J-ADP.2017-01-18T11:58:35.781b.fits ...    48.0       Field-2-J\n",
       "   10       2  H-ADP.2017-01-18T11:58:35.780b.fits ...    16.0       Field-2-H\n",
       "   11       2 Ks-ADP.2016-05-25T15:33:39.546b.fits ...    16.0 Field-2-Ks-E001\n",
       "   12       2  Y-ADP.2017-01-18T11:58:36.901b.fits ...    40.0       Field-2-Y\n",
       "   13       3  Z-ADP.2017-01-18T11:58:36.905c.fits ...    40.0       Field-3-Z\n",
       "   14       3  J-ADP.2017-01-18T11:58:35.781c.fits ...    48.0       Field-3-J\n",
       "   15       3  H-ADP.2017-01-18T11:58:35.780c.fits ...    16.0       Field-3-H\n",
       "   16       3 Ks-ADP.2016-05-25T15:33:39.546c.fits ...    16.0 Field-3-Ks-E002\n",
       "   17       3 Ks-ADP.2017-01-18T11:58:39.907c.fits ...    16.0 Field-3-Ks-E001\n",
       "   18       3  Y-ADP.2017-01-18T11:58:36.901c.fits ...    40.0       Field-3-Y"
      ]
     },
     "execution_count": 17,
     "metadata": {},
     "output_type": "execute_result"
    }
   ],
   "source": [
    "info\n",
    "# Simply show the updated Info (with the new column included)"
   ]
  },
  {
   "cell_type": "code",
   "execution_count": 18,
   "metadata": {
    "collapsed": false
   },
   "outputs": [
    {
     "name": "stderr",
     "output_type": "stream",
     "text": [
      "WARNING: UnitsWarning: 'Number' did not parse as fits unit: At col 0, Unit 'Number' not supported by the FITS standard.  [astropy.units.core]\n",
      "WARNING: UnitsWarning: 'Pixels' did not parse as fits unit: At col 0, Unit 'Pixels' not supported by the FITS standard. Did you mean pixel? [astropy.units.core]\n",
      "WARNING: UnitsWarning: 'ADU' did not parse as fits unit: At col 0, Unit 'ADU' not supported by the FITS standard. Did you mean AU or adu? [astropy.units.core]\n",
      "WARNING: UnitsWarning: 'RADIANS' did not parse as fits unit: At col 0, Unit 'RADIANS' not supported by the FITS standard.  [astropy.units.core]\n",
      "WARNING: UnitsWarning: 'Flag' did not parse as fits unit: At col 0, Unit 'Flag' not supported by the FITS standard.  [astropy.units.core]\n"
     ]
    }
   ],
   "source": [
    "# Now that the names match, I can create the database with all the relevant information. I found it easier\n",
    "# to create a big data table because there are variables that can filter out any object with a simple SQL querie.\n",
    "# My database is called \"All_data\"\n",
    "\n",
    "# I create an empty table and read the files that have the information that I will add to that table\n",
    "All_data = Table()\n",
    "\n",
    "# The ID, Filter and FieldID are the variables that my new database and info have in common so I can\n",
    "# use them to create the table and include all the information. \n",
    "\n",
    "for ii,files in enumerate(names_to_match):\n",
    "    Files = Table.read('/home/juancho/Master/Semester3/DBDM/DDM2017_FinalProject/FinalProject/Q1/Tables/'+str(files)+'.fits',format='fits')\n",
    "    for jj,alloc in enumerate(info):\n",
    "        if alloc['name_file']   == files:\n",
    "            Files['ID_fitsfile'] = np.ones(len(Files))*alloc['ID']\n",
    "            Files['Filter']      = alloc['Filter']\n",
    "            Files['FieldID']     = alloc['FieldID']\n",
    "                        \n",
    "    # Stack all the data to the table\n",
    "    All_data = vstack([All_data,Files])"
   ]
  },
  {
   "cell_type": "code",
   "execution_count": 19,
   "metadata": {
    "collapsed": false
   },
   "outputs": [],
   "source": [
    "# With this line I just want to include a column with the S/N calculated from Flux1/dFlux1 beacuse it is \n",
    "# useful to have it there for further use on the data.\n",
    "\n",
    "All_data['SN'] = All_data[\"Flux1\"]/All_data[\"dFlux1\"]"
   ]
  },
  {
   "cell_type": "code",
   "execution_count": 20,
   "metadata": {
    "collapsed": false
   },
   "outputs": [
    {
     "data": {
      "text/html": [
       "&lt;Table masked=True length=180000&gt;\n",
       "<table id=\"table140628631220176\" class=\"table-striped table-bordered table-condensed\">\n",
       "<thead><tr><th>RunningID</th><th>X</th><th>Y</th><th>Flux1</th><th>dFlux1</th><th>Flux2</th><th>dFlux2</th><th>Flux3</th><th>dFlux3</th><th>Ra</th><th>Dec</th><th>Class</th><th>Mag1</th><th>dMag1</th><th>Mag2</th><th>dMag2</th><th>Mag3</th><th>dMag3</th><th>StarID</th><th>ID_fitsfile</th><th>Filter</th><th>FieldID</th><th>SN</th></tr></thead>\n",
       "<thead><tr><th>Number</th><th>Pixels</th><th>Pixels</th><th>ADU</th><th>ADU</th><th>ADU</th><th>ADU</th><th>ADU</th><th>ADU</th><th>RADIANS</th><th>RADIANS</th><th>Flag</th><th>ADU</th><th>ADU</th><th>ADU</th><th>ADU</th><th>ADU</th><th>ADU</th><th></th><th></th><th></th><th></th><th></th></tr></thead>\n",
       "<thead><tr><th>float32</th><th>float32</th><th>float32</th><th>float32</th><th>float32</th><th>float32</th><th>float32</th><th>float32</th><th>float32</th><th>float32</th><th>float32</th><th>float32</th><th>float32</th><th>float32</th><th>float32</th><th>float32</th><th>float32</th><th>float32</th><th>int64</th><th>float64</th><th>str2</th><th>int64</th><th>float32</th></tr></thead>\n",
       "<tr><td>9.0</td><td>6676.62</td><td>5.03455</td><td>2886.02</td><td>145.136</td><td>4697.14</td><td>205.506</td><td>6884.06</td><td>291.283</td><td>4.70662</td><td>-0.529796</td><td>-1.0</td><td>17.433</td><td>0.054601</td><td>17.4321</td><td>0.0475026</td><td>17.4231</td><td>0.0459405</td><td>0</td><td>1.0</td><td>Z</td><td>1</td><td>19.885</td></tr>\n",
       "<tr><td>13.0</td><td>6841.46</td><td>5.31207</td><td>2585.4</td><td>144.623</td><td>4467.49</td><td>205.039</td><td>6966.38</td><td>290.953</td><td>4.7069</td><td>-0.529931</td><td>1.0</td><td>17.5525</td><td>0.0607343</td><td>17.4866</td><td>0.049831</td><td>17.4102</td><td>0.0453463</td><td>1</td><td>1.0</td><td>Z</td><td>1</td><td>17.8769</td></tr>\n",
       "<tr><td>15.0</td><td>6355.06</td><td>5.88212</td><td>2765.64</td><td>145.052</td><td>4436.22</td><td>205.378</td><td>6540.06</td><td>291.163</td><td>4.70609</td><td>-0.529531</td><td>-1.0</td><td>17.4793</td><td>0.0569448</td><td>17.4942</td><td>0.050265</td><td>17.4788</td><td>0.048337</td><td>2</td><td>1.0</td><td>Z</td><td>1</td><td>19.0665</td></tr>\n",
       "<tr><td>19.0</td><td>5897.49</td><td>7.52958</td><td>899.127</td><td>138.445</td><td>1464.07</td><td>197.921</td><td>2023.29</td><td>284.087</td><td>4.70533</td><td>-0.529153</td><td>-1.0</td><td>18.6992</td><td>0.167179</td><td>18.6978</td><td>0.146776</td><td>18.7526</td><td>0.152447</td><td>3</td><td>1.0</td><td>Z</td><td>1</td><td>6.49449</td></tr>\n",
       "<tr><td>22.0</td><td>5809.89</td><td>6.13442</td><td>3412.75</td><td>140.556</td><td>5444.32</td><td>200.291</td><td>8012.71</td><td>286.57</td><td>4.70518</td><td>-0.529083</td><td>-1.0</td><td>17.251</td><td>0.0447169</td><td>17.2719</td><td>0.0399432</td><td>17.2583</td><td>0.0388309</td><td>4</td><td>1.0</td><td>Z</td><td>1</td><td>24.2803</td></tr>\n",
       "<tr><td>14.0</td><td>6874.91</td><td>5.43629</td><td>4129.01</td><td>145.694</td><td>6773.71</td><td>206.173</td><td>9926.46</td><td>291.985</td><td>4.70695</td><td>-0.529958</td><td>-1.0</td><td>17.0442</td><td>0.0383108</td><td>17.0347</td><td>0.0330469</td><td>17.0257</td><td>0.0319368</td><td>5</td><td>1.0</td><td>Z</td><td>1</td><td>28.3403</td></tr>\n",
       "<tr><td>12.0</td><td>6571.8</td><td>5.21043</td><td>3762.78</td><td>145.753</td><td>6288.57</td><td>206.302</td><td>9654.43</td><td>292.267</td><td>4.70645</td><td>-0.52971</td><td>1.0</td><td>17.145</td><td>0.0420567</td><td>17.1153</td><td>0.0356186</td><td>17.0559</td><td>0.0328684</td><td>6</td><td>1.0</td><td>Z</td><td>1</td><td>25.8161</td></tr>\n",
       "<tr><td>17.0</td><td>6580.03</td><td>6.52743</td><td>2046.26</td><td>144.553</td><td>3359.13</td><td>204.849</td><td>4906.73</td><td>290.597</td><td>4.70647</td><td>-0.529715</td><td>1.0</td><td>17.8064</td><td>0.0766994</td><td>17.7962</td><td>0.0662116</td><td>17.7907</td><td>0.0643021</td><td>7</td><td>1.0</td><td>Z</td><td>1</td><td>14.1558</td></tr>\n",
       "<tr><td>25.0</td><td>5442.76</td><td>5.51923</td><td>7346.58</td><td>142.742</td><td>12718.0</td><td>203.258</td><td>17909.1</td><td>289.473</td><td>4.70457</td><td>-0.528783</td><td>-2.0</td><td>16.4186</td><td>0.0210957</td><td>16.3507</td><td>0.0173522</td><td>16.385</td><td>0.0175494</td><td>8</td><td>1.0</td><td>Z</td><td>1</td><td>51.4674</td></tr>\n",
       "<tr><td>...</td><td>...</td><td>...</td><td>...</td><td>...</td><td>...</td><td>...</td><td>...</td><td>...</td><td>...</td><td>...</td><td>...</td><td>...</td><td>...</td><td>...</td><td>...</td><td>...</td><td>...</td><td>...</td><td>...</td><td>...</td><td>...</td><td>...</td></tr>\n",
       "<tr><td>454501.0</td><td>8370.25</td><td>8615.65</td><td>5359.49</td><td>173.434</td><td>9173.43</td><td>245.963</td><td>14037.6</td><td>349.237</td><td>4.71756</td><td>-0.518785</td><td>1.0</td><td>16.7134</td><td>0.0351348</td><td>16.6306</td><td>0.0291115</td><td>16.5342</td><td>0.0270117</td><td>309990</td><td>18.0</td><td>Y</td><td>3</td><td>30.9022</td></tr>\n",
       "<tr><td>454649.0</td><td>381.916</td><td>8612.85</td><td>6413.47</td><td>167.012</td><td>10117.1</td><td>238.882</td><td>14603.2</td><td>341.807</td><td>4.70435</td><td>-0.512263</td><td>-1.0</td><td>16.5185</td><td>0.0282736</td><td>16.5243</td><td>0.0256361</td><td>16.4913</td><td>0.0254132</td><td>309991</td><td>18.0</td><td>Y</td><td>3</td><td>38.4013</td></tr>\n",
       "<tr><td>454534.0</td><td>4286.15</td><td>8616.46</td><td>5220.01</td><td>162.35</td><td>8160.4</td><td>234.142</td><td>10986.6</td><td>338.537</td><td>4.71079</td><td>-0.515456</td><td>-1.0</td><td>16.7421</td><td>0.033768</td><td>16.7577</td><td>0.0311525</td><td>16.8003</td><td>0.0334555</td><td>309992</td><td>18.0</td><td>Y</td><td>3</td><td>32.1529</td></tr>\n",
       "<tr><td>454663.0</td><td>11292.2</td><td>8620.43</td><td>1401.12</td><td>170.557</td><td>2173.38</td><td>242.701</td><td>2859.15</td><td>347.775</td><td>4.72242</td><td>-0.521146</td><td>-1.0</td><td>18.17</td><td>0.132166</td><td>18.1941</td><td>0.121244</td><td>18.2618</td><td>0.132065</td><td>309993</td><td>18.0</td><td>Y</td><td>3</td><td>8.21498</td></tr>\n",
       "<tr><td>454734.0</td><td>10918.6</td><td>8608.29</td><td>6618.59</td><td>173.542</td><td>10721.7</td><td>246.146</td><td>15272.3</td><td>351.289</td><td>4.72179</td><td>-0.520862</td><td>-1.0</td><td>16.4843</td><td>0.0284686</td><td>16.4613</td><td>0.0249261</td><td>16.4427</td><td>0.0249738</td><td>309994</td><td>18.0</td><td>Y</td><td>3</td><td>38.1382</td></tr>\n",
       "<tr><td>454737.0</td><td>10926.7</td><td>8608.75</td><td>4041.84</td><td>172.073</td><td>6600.35</td><td>244.49</td><td>9854.27</td><td>349.763</td><td>4.7218</td><td>-0.520868</td><td>1.0</td><td>17.0198</td><td>0.0462232</td><td>16.988</td><td>0.040218</td><td>16.9184</td><td>0.0385367</td><td>309995</td><td>18.0</td><td>Y</td><td>3</td><td>23.4891</td></tr>\n",
       "<tr><td>454597.0</td><td>12382.2</td><td>8619.43</td><td>1680.92</td><td>170.13</td><td>2633.37</td><td>241.726</td><td>3609.85</td><td>346.109</td><td>4.72424</td><td>-0.522029</td><td>-1.0</td><td>17.9724</td><td>0.10989</td><td>17.9857</td><td>0.099664</td><td>18.0087</td><td>0.1041</td><td>309996</td><td>18.0</td><td>Y</td><td>3</td><td>9.88023</td></tr>\n",
       "<tr><td>452672.0</td><td>9522.55</td><td>8569.37</td><td>73577.5</td><td>208.132</td><td>118253.0</td><td>285.949</td><td>163345.0</td><td>389.862</td><td>4.71943</td><td>-0.519787</td><td>-1.0</td><td>13.8694</td><td>0.00307128</td><td>13.8549</td><td>0.00262544</td><td>13.8697</td><td>0.00259137</td><td>309997</td><td>18.0</td><td>Y</td><td>3</td><td>353.514</td></tr>\n",
       "<tr><td>453716.0</td><td>9509.0</td><td>8579.43</td><td>2393.7</td><td>170.707</td><td>3852.55</td><td>242.588</td><td>5544.19</td><td>346.473</td><td>4.71942</td><td>-0.519762</td><td>1.0</td><td>17.5886</td><td>0.0774296</td><td>17.5726</td><td>0.0683672</td><td>17.5428</td><td>0.0678511</td><td>309998</td><td>18.0</td><td>Y</td><td>3</td><td>14.0223</td></tr>\n",
       "<tr><td>453717.0</td><td>9514.23</td><td>8593.98</td><td>206286.0</td><td>263.814</td><td>329776.0</td><td>352.055</td><td>473325.0</td><td>463.226</td><td>4.71944</td><td>-0.519745</td><td>-1.0</td><td>12.7501</td><td>0.00138852</td><td>12.7414</td><td>0.00115909</td><td>12.7145</td><td>0.00106257</td><td>309999</td><td>18.0</td><td>Y</td><td>3</td><td>781.938</td></tr>\n",
       "</table>"
      ],
      "text/plain": [
       "<Table masked=True length=180000>\n",
       "RunningID    X       Y     Flux1   ... ID_fitsfile Filter FieldID    SN  \n",
       "  Number   Pixels  Pixels   ADU    ...                                   \n",
       " float32  float32 float32 float32  ...   float64    str2   int64  float32\n",
       "--------- ------- ------- -------- ... ----------- ------ ------- -------\n",
       "      9.0 6676.62 5.03455  2886.02 ...         1.0      Z       1  19.885\n",
       "     13.0 6841.46 5.31207   2585.4 ...         1.0      Z       1 17.8769\n",
       "     15.0 6355.06 5.88212  2765.64 ...         1.0      Z       1 19.0665\n",
       "     19.0 5897.49 7.52958  899.127 ...         1.0      Z       1 6.49449\n",
       "     22.0 5809.89 6.13442  3412.75 ...         1.0      Z       1 24.2803\n",
       "     14.0 6874.91 5.43629  4129.01 ...         1.0      Z       1 28.3403\n",
       "     12.0  6571.8 5.21043  3762.78 ...         1.0      Z       1 25.8161\n",
       "     17.0 6580.03 6.52743  2046.26 ...         1.0      Z       1 14.1558\n",
       "     25.0 5442.76 5.51923  7346.58 ...         1.0      Z       1 51.4674\n",
       "      ...     ...     ...      ... ...         ...    ...     ...     ...\n",
       " 454501.0 8370.25 8615.65  5359.49 ...        18.0      Y       3 30.9022\n",
       " 454649.0 381.916 8612.85  6413.47 ...        18.0      Y       3 38.4013\n",
       " 454534.0 4286.15 8616.46  5220.01 ...        18.0      Y       3 32.1529\n",
       " 454663.0 11292.2 8620.43  1401.12 ...        18.0      Y       3 8.21498\n",
       " 454734.0 10918.6 8608.29  6618.59 ...        18.0      Y       3 38.1382\n",
       " 454737.0 10926.7 8608.75  4041.84 ...        18.0      Y       3 23.4891\n",
       " 454597.0 12382.2 8619.43  1680.92 ...        18.0      Y       3 9.88023\n",
       " 452672.0 9522.55 8569.37  73577.5 ...        18.0      Y       3 353.514\n",
       " 453716.0  9509.0 8579.43   2393.7 ...        18.0      Y       3 14.0223\n",
       " 453717.0 9514.23 8593.98 206286.0 ...        18.0      Y       3 781.938"
      ]
     },
     "execution_count": 20,
     "metadata": {},
     "output_type": "execute_result"
    }
   ],
   "source": [
    "All_data\n",
    "# Display the current contents of the table \"All_data\""
   ]
  },
  {
   "cell_type": "code",
   "execution_count": 21,
   "metadata": {
    "collapsed": false
   },
   "outputs": [],
   "source": [
    "# In principle this database contains all the information that one may need for the requested queries and for \n",
    "# further data analysis. But, given the characteristic of the queries and the not-so straightforward handling\n",
    "# of SQl, I will include some colours that I will use later on. (This makes the SQL queries easier and faster)\n",
    "\n",
    "# First, I identify the objects that have magnitudes in the H,J and Y filters.\n",
    "\n",
    "All_dataH = All_data[All_data[\"Filter\"]==\"H\"]\n",
    "All_dataJ = All_data[All_data[\"Filter\"]==\"J\"]\n",
    "All_dataY = All_data[All_data[\"Filter\"]==\"Y\"]\n",
    "\n",
    "# Then I simply calculate the colours in two other arrays\n",
    "\n",
    "All_dataJH = All_dataJ[\"Mag1\"][All_dataJ[\"StarID\"] == All_dataH[\"StarID\"]] - All_dataH[\"Mag1\"][All_dataJ[\"StarID\"] == All_dataH[\"StarID\"]]\n",
    "All_dataYJ = All_dataY[\"Mag1\"][All_dataY[\"StarID\"] == All_dataJ[\"StarID\"]] - All_dataJ[\"Mag1\"][All_dataY[\"StarID\"] == All_dataJ[\"StarID\"]]\n",
    "\n",
    "#All_data['JH_colour'] = All_dataJ[\"Mag1\"][All_dataJ[\"StarID\"] == All_dataH[\"StarID\"]] - All_dataH[\"Mag1\"][All_dataJ[\"StarID\"] == All_dataH[\"StarID\"]]\n"
   ]
  },
  {
   "cell_type": "code",
   "execution_count": 22,
   "metadata": {
    "collapsed": false
   },
   "outputs": [
    {
     "data": {
      "text/html": [
       "&lt;Table masked=True length=30000&gt;\n",
       "<table id=\"table140628629480336\" class=\"table-striped table-bordered table-condensed\">\n",
       "<thead><tr><th>ID_fitsfile</th><th>StarID</th><th>FieldID</th><th>Class_H</th><th>Class_J</th><th>Class_Y</th><th>JH_colour</th><th>YJ_colour</th></tr></thead>\n",
       "<thead><tr><th></th><th></th><th></th><th>Flag</th><th>Flag</th><th>Flag</th><th></th><th></th></tr></thead>\n",
       "<thead><tr><th>float64</th><th>int64</th><th>int64</th><th>float32</th><th>float32</th><th>float32</th><th>float32</th><th>float32</th></tr></thead>\n",
       "<tr><td>7.0</td><td>0</td><td>1</td><td>-1.0</td><td>-2.0</td><td>1.0</td><td>2.45078</td><td>-0.697231</td></tr>\n",
       "<tr><td>7.0</td><td>1</td><td>1</td><td>-1.0</td><td>1.0</td><td>1.0</td><td>2.19091</td><td>-0.245317</td></tr>\n",
       "<tr><td>7.0</td><td>2</td><td>1</td><td>-1.0</td><td>-1.0</td><td>1.0</td><td>1.94639</td><td>-0.305107</td></tr>\n",
       "<tr><td>7.0</td><td>3</td><td>1</td><td>-1.0</td><td>-1.0</td><td>-1.0</td><td>1.49642</td><td>-0.102165</td></tr>\n",
       "<tr><td>7.0</td><td>4</td><td>1</td><td>0.0</td><td>-1.0</td><td>-1.0</td><td>1.57273</td><td>-0.264221</td></tr>\n",
       "<tr><td>7.0</td><td>5</td><td>1</td><td>-1.0</td><td>1.0</td><td>1.0</td><td>2.34517</td><td>-0.529789</td></tr>\n",
       "<tr><td>7.0</td><td>6</td><td>1</td><td>0.0</td><td>1.0</td><td>1.0</td><td>2.05666</td><td>-0.656755</td></tr>\n",
       "<tr><td>7.0</td><td>7</td><td>1</td><td>-1.0</td><td>-2.0</td><td>-1.0</td><td>1.84886</td><td>-0.136379</td></tr>\n",
       "<tr><td>7.0</td><td>8</td><td>1</td><td>-1.0</td><td>-2.0</td><td>-1.0</td><td>0.996487</td><td>-1.0584</td></tr>\n",
       "<tr><td>...</td><td>...</td><td>...</td><td>...</td><td>...</td><td>...</td><td>...</td><td>...</td></tr>\n",
       "<tr><td>18.0</td><td>309990</td><td>3</td><td>1.0</td><td>1.0</td><td>1.0</td><td>1.28304</td><td>-0.141216</td></tr>\n",
       "<tr><td>18.0</td><td>309991</td><td>3</td><td>-1.0</td><td>-1.0</td><td>-1.0</td><td>1.53788</td><td>-0.0191422</td></tr>\n",
       "<tr><td>18.0</td><td>309992</td><td>3</td><td>-1.0</td><td>-1.0</td><td>-1.0</td><td>1.44629</td><td>-0.104012</td></tr>\n",
       "<tr><td>18.0</td><td>309993</td><td>3</td><td>-1.0</td><td>-1.0</td><td>-1.0</td><td>1.44094</td><td>-0.201639</td></tr>\n",
       "<tr><td>18.0</td><td>309994</td><td>3</td><td>-1.0</td><td>-1.0</td><td>-1.0</td><td>1.36176</td><td>-0.173378</td></tr>\n",
       "<tr><td>18.0</td><td>309995</td><td>3</td><td>1.0</td><td>1.0</td><td>1.0</td><td>1.01842</td><td>-0.36426</td></tr>\n",
       "<tr><td>18.0</td><td>309996</td><td>3</td><td>-1.0</td><td>1.0</td><td>-1.0</td><td>1.41693</td><td>-0.301901</td></tr>\n",
       "<tr><td>18.0</td><td>309997</td><td>3</td><td>-1.0</td><td>-1.0</td><td>-1.0</td><td>0.954065</td><td>-0.0473146</td></tr>\n",
       "<tr><td>18.0</td><td>309998</td><td>3</td><td>-1.0</td><td>1.0</td><td>1.0</td><td>1.42243</td><td>-0.147293</td></tr>\n",
       "<tr><td>18.0</td><td>309999</td><td>3</td><td>-1.0</td><td>-1.0</td><td>-1.0</td><td>-0.159562</td><td>-0.561213</td></tr>\n",
       "</table>"
      ],
      "text/plain": [
       "<Table masked=True length=30000>\n",
       "ID_fitsfile StarID FieldID Class_H Class_J Class_Y JH_colour YJ_colour \n",
       "                             Flag    Flag    Flag                      \n",
       "  float64   int64   int64  float32 float32 float32  float32   float32  \n",
       "----------- ------ ------- ------- ------- ------- --------- ----------\n",
       "        7.0      0       1    -1.0    -2.0     1.0   2.45078  -0.697231\n",
       "        7.0      1       1    -1.0     1.0     1.0   2.19091  -0.245317\n",
       "        7.0      2       1    -1.0    -1.0     1.0   1.94639  -0.305107\n",
       "        7.0      3       1    -1.0    -1.0    -1.0   1.49642  -0.102165\n",
       "        7.0      4       1     0.0    -1.0    -1.0   1.57273  -0.264221\n",
       "        7.0      5       1    -1.0     1.0     1.0   2.34517  -0.529789\n",
       "        7.0      6       1     0.0     1.0     1.0   2.05666  -0.656755\n",
       "        7.0      7       1    -1.0    -2.0    -1.0   1.84886  -0.136379\n",
       "        7.0      8       1    -1.0    -2.0    -1.0  0.996487    -1.0584\n",
       "        ...    ...     ...     ...     ...     ...       ...        ...\n",
       "       18.0 309990       3     1.0     1.0     1.0   1.28304  -0.141216\n",
       "       18.0 309991       3    -1.0    -1.0    -1.0   1.53788 -0.0191422\n",
       "       18.0 309992       3    -1.0    -1.0    -1.0   1.44629  -0.104012\n",
       "       18.0 309993       3    -1.0    -1.0    -1.0   1.44094  -0.201639\n",
       "       18.0 309994       3    -1.0    -1.0    -1.0   1.36176  -0.173378\n",
       "       18.0 309995       3     1.0     1.0     1.0   1.01842   -0.36426\n",
       "       18.0 309996       3    -1.0     1.0    -1.0   1.41693  -0.301901\n",
       "       18.0 309997       3    -1.0    -1.0    -1.0  0.954065 -0.0473146\n",
       "       18.0 309998       3    -1.0     1.0     1.0   1.42243  -0.147293\n",
       "       18.0 309999       3    -1.0    -1.0    -1.0 -0.159562  -0.561213"
      ]
     },
     "execution_count": 22,
     "metadata": {},
     "output_type": "execute_result"
    }
   ],
   "source": [
    "# I create a new table in which I will include the colours and some more information for further analysis\n",
    "\n",
    "Colours = Table()\n",
    "\n",
    "# I add the useful information in this new table, that is, the ID, StarID, FieldID, ClassH, ClassJ, ClassY, JH colour \n",
    "# and YJ colour\n",
    "\n",
    "Colours['ID_fitsfile'] = All_dataY[\"ID_fitsfile\"][All_dataY[\"StarID\"]  == All_dataJ[\"StarID\"]]\n",
    "Colours['StarID']      = All_dataY[\"StarID\"][All_dataY[\"StarID\"]  == All_dataJ[\"StarID\"]]\n",
    "Colours['FieldID']     = All_dataY[\"FieldID\"][All_dataY[\"StarID\"] == All_dataJ[\"StarID\"]]\n",
    "Colours['Class_H']     = All_dataH[\"Class\"][All_dataH[\"StarID\"]   == All_dataJ[\"StarID\"]]\n",
    "Colours['Class_J']     = All_dataJ[\"Class\"][All_dataJ[\"StarID\"]   == All_dataH[\"StarID\"]]\n",
    "Colours['Class_Y']     = All_dataY[\"Class\"][All_dataY[\"StarID\"]   == All_dataJ[\"StarID\"]]\n",
    "Colours['JH_colour']   = All_dataJH\n",
    "Colours['YJ_colour']   = All_dataYJ\n",
    "\n",
    "Colours\n",
    "# Show the new table with the colours"
   ]
  },
  {
   "cell_type": "code",
   "execution_count": 23,
   "metadata": {
    "collapsed": false
   },
   "outputs": [
    {
     "data": {
      "text/plain": [
       "'\\nfor j in range (0, len(Colours)):\\n    for i in range (0, len(All_data)):\\n        if (All_data[\"StarID\"][i] == Colours[\"StarID\"][j]):\\n            print(Colours[\"JH_colour\"][j])\\n            All_data[\\'JH_colour\\'][i] = Colours[\"JH_colour\"][j]\\n        else:\\n            All_data[\\'JH_colour\\'][i] = 100\\n'"
      ]
     },
     "execution_count": 23,
     "metadata": {},
     "output_type": "execute_result"
    }
   ],
   "source": [
    "# This code would create two more columns in the big table with the calculated colours but it is very\n",
    "# inefficient and not very useful for further queries. But I include it as a comment:\n",
    "\"\"\"\n",
    "for j in range (0, len(Colours)):\n",
    "    for i in range (0, len(All_data)):\n",
    "        if (All_data[\"StarID\"][i] == Colours[\"StarID\"][j]):\n",
    "            print(Colours[\"JH_colour\"][j])\n",
    "            All_data['JH_colour'][i] = Colours[\"JH_colour\"][j]\n",
    "        else:\n",
    "            All_data['JH_colour'][i] = 100\n",
    "\"\"\""
   ]
  },
  {
   "cell_type": "code",
   "execution_count": 24,
   "metadata": {
    "collapsed": true
   },
   "outputs": [],
   "source": [
    "# Move the data frame to pandas for the three tables\n",
    "\n",
    "All_data_df = All_data.to_pandas()\n",
    "info_df     = info.to_pandas()\n",
    "Colours_df  = Colours.to_pandas()"
   ]
  },
  {
   "cell_type": "code",
   "execution_count": 25,
   "metadata": {
    "collapsed": false
   },
   "outputs": [],
   "source": [
    "# Here I create the schemas for the tables in the database where I define the type of variables in each case:\n",
    "\n",
    "info_schema     = \"\"\"CREATE TABLE info (ID INT, FieldID INT, Filename VARCHAR(50), Filter VARCHAR(5), MJD DOUBLE, \n",
    "                Airmass DOUBLE, Exptime DOUBLE, name_file VARCHAR(50) UNIQUE(ID), PRIMARY KEY(ID, MJD),\n",
    "                FOREIGN KEY(FieldID))\"\"\"\n",
    "\n",
    "Colours_schema  = \"\"\"CREATE TABLE Colours (ID_fitsfile INT, StarID INT, FieldID INT, Class_H, Class_J INT, Class_Y INT, \n",
    "                JH_colour DOUBLE, YJ_colour DOUBLE, UNIQUE(StarID), PRIMARY KEY(StarID), FOREIGN KEY(FieldID))\"\"\"\n",
    "\n",
    "All_data_schema = \"\"\"CREATE TABLE All_data (RunningID INT, X DOUBLE, Y DOUBLE, Flux1 DOUBLE, dFlux1 DOUBLE, \n",
    "                Flux2 DOUBLE, dFlux2 DOUBLE, Flux3 DOUBLE, dFlux3 DOUBLE, Ra DOUBLE, Dec DOUBLE, Class INT, \n",
    "                Mag1 DOUBLE, dMag1 DOUBLE, Mag2 DOUBLE, dMag2 DOUBLE, Mag3 DOUBLE, dMag3 DOUBLE, StarID INT, \n",
    "                ID_fitsfile INT, Filter VARCHAR(5), FieldID DOUBLE, SN DOUBLE, PRIMARY KEY(StarID), FOREIGN KEY(FieldID, ID))\"\"\""
   ]
  },
  {
   "cell_type": "code",
   "execution_count": 26,
   "metadata": {
    "collapsed": false
   },
   "outputs": [],
   "source": [
    "# Name and connect the database\n",
    "\n",
    "Name_database = 'Database_Juan.db'\n",
    "\n",
    "con = sq.connect(Name_database)\n",
    "\n",
    "# And create the tables into the Database\n",
    "All_data_df.to_sql('All_data', con, schema=All_data_schema, if_exists='replace')\n",
    "info_df.to_sql('info', con, schema=info_schema, if_exists='replace')\n",
    "Colours_df.to_sql('Colours', con, schema=Colours_schema, if_exists='replace')"
   ]
  },
  {
   "cell_type": "code",
   "execution_count": 27,
   "metadata": {
    "collapsed": true
   },
   "outputs": [],
   "source": [
    "# Connect to my database\n",
    "con = sq.connect('Database_Juan.db')"
   ]
  },
  {
   "cell_type": "markdown",
   "metadata": {},
   "source": [
    "# Now let's do the requested queries:"
   ]
  },
  {
   "cell_type": "markdown",
   "metadata": {},
   "source": [
    "# a.1 Find all images observed between MJD=56800 and MJD=57300 and give me the number of stars detected with S/N>5 in each image"
   ]
  },
  {
   "cell_type": "code",
   "execution_count": 28,
   "metadata": {
    "collapsed": false
   },
   "outputs": [
    {
     "name": "stdout",
     "output_type": "stream",
     "text": [
      "File: Field-1-H    MJD: 57257.044108      Number_of_Stars: 7982\n",
      "File: Field-2-H    MJD: 57258.044108      Number_of_Stars: 7725\n",
      "File: Field-3-H    MJD: 57258.044108      Number_of_Stars: 8022\n",
      "File: Field-1-J    MJD: 57257.0504323      Number_of_Stars: 7022\n",
      "File: Field-2-J    MJD: 57258.0504323      Number_of_Stars: 7354\n",
      "File: Field-3-J    MJD: 57258.0504323      Number_of_Stars: 7248\n",
      "File: Field-1-Ks-E003    MJD: 56829.0390512      Number_of_Stars: 7888\n",
      "File: Field-1-Y    MJD: 57267.1596647      Number_of_Stars: 6806\n",
      "File: Field-2-Y    MJD: 57268.1596647      Number_of_Stars: 7215\n",
      "File: Field-3-Y    MJD: 57268.1596647      Number_of_Stars: 7186\n",
      "File: Field-1-Z    MJD: 57267.1671072      Number_of_Stars: 6477\n",
      "File: Field-2-Z    MJD: 57268.1671072      Number_of_Stars: 6929\n",
      "File: Field-3-Z    MJD: 57268.1671072      Number_of_Stars: 6741\n"
     ]
    }
   ],
   "source": [
    "# Define the query in SQL taking into account that the object class is -1.0 (star), S/N>5 and the names\n",
    "# in the \"info\" file and \"All_data\" file coincide\n",
    "\n",
    "Q1_que = \"\"\"SELECT filename, MJD, numstars FROM (SELECT inf.name_file as filename, inf.MJD as MJD, COUNT(data.StarID) \n",
    "        as numstars FROM info as inf, All_data as data WHERE data.Class=-1.0 AND data.ID_fitsfile == inf.ID AND \n",
    "        data.SN > 5 GROUP BY inf.Filename) WHERE MJD>56800 AND MJD<57300\"\"\"\n",
    "\n",
    "# Execute query\n",
    "Q1 = con.execute(Q1_que)\n",
    "\n",
    "# Show the results of the query for all the files.\n",
    "for row in Q1: \n",
    "    print \"File: {0}    MJD: {1}      Number_of_Stars: {2}\".format(row[0], row[1], row[2])"
   ]
  },
  {
   "cell_type": "markdown",
   "metadata": {},
   "source": [
    "# a.2 Find the objects that have J-H > 1.5"
   ]
  },
  {
   "cell_type": "code",
   "execution_count": 29,
   "metadata": {
    "collapsed": false
   },
   "outputs": [
    {
     "name": "stdout",
     "output_type": "stream",
     "text": [
      "Number of objects that have JH>1.5= 7154\n"
     ]
    }
   ],
   "source": [
    "# For this query we use the table that we created in the database that contains the colours of the stars.\n",
    "\n",
    "Q2_que = \"\"\"SELECT Colours.JH_colour From Colours WHERE Colours.JH_colour > 1.5\"\"\"\n",
    "\n",
    "Q2 = pd.read_sql(Q2_que, con)\n",
    "\n",
    "print 'Number of objects that have JH>1.5=', len(Q2.JH_colour)"
   ]
  },
  {
   "cell_type": "code",
   "execution_count": 30,
   "metadata": {
    "collapsed": false
   },
   "outputs": [
    {
     "data": {
      "image/png": "[encoded data removed]",
      "text/plain": [
       "<matplotlib.figure.Figure at 0x7fe6a7e40810>"
      ]
     },
     "metadata": {},
     "output_type": "display_data"
    }
   ],
   "source": [
    "# Since there are more than 20 results in this query, I will display them graphically. The best way to do so is \n",
    "# a histogram because it shows the distribution of colour for the 7154 objects after the value of 1.5\n",
    "\n",
    "# Plot histogram\n",
    "Q2.hist(column='JH_colour', bins=25, alpha=0.8)\n",
    "plt.xlim(1.2,3.3)\n",
    "plt.title('Colour distribution for JH>1.5')\n",
    "plt.ylabel(\"Number of objects\".format(25), size=12)\n",
    "plt.yscale('log')\n",
    "plt.xlabel(\"JH Colour\", size=12)\n",
    "plt.savefig('1.png')"
   ]
  },
  {
   "cell_type": "markdown",
   "metadata": {},
   "source": [
    "# a.3 Find the objects where Ks differs by more than 20 times the flux uncertainty from the mean flux\n"
   ]
  },
  {
   "cell_type": "code",
   "execution_count": 37,
   "metadata": {
    "collapsed": false
   },
   "outputs": [
    {
     "name": "stdout",
     "output_type": "stream",
     "text": [
      "Objects that fulfil the requirement in field 1:    20640\n",
      "Objects that fulfil the requirement in field 2:    6593\n",
      "Objects that fulfil the requirement in field 3:    13458\n",
      "\n",
      "\n",
      "Objects that fulfil the condition in file \"4\":    6629\n",
      "Objects that fulfil the condition in file \"5\":    6639\n",
      "Objects that fulfil the condition in file \"6\":    7372\n",
      "Objects that fulfil the condition in file \"11\":   6593\n",
      "Objects that fulfil the condition in file \"16\":   6871\n",
      "Objects that fulfil the condition in file \"17\":   6587\n"
     ]
    }
   ],
   "source": [
    "# This query was a bit tricky on the interpretation of the condition on the flux but I understood it as \n",
    "# Flux1 - avg(Flux1) < 20*dFlux1 where the average is obtained over all the Ks in each field. Since each field \n",
    "# has different number of Ks files I decided to create three separate SQL queries, one for each field\n",
    "\n",
    "\n",
    "# For field 1:\n",
    "Q3_que_1 = \"\"\"SELECT inf.ID as ident, inf.Filter as fil, inf.FieldID as field, data.Flux1 as flux, data.StarID\n",
    "        as starid FROM info as inf, All_data as data WHERE field=\"1\" AND data.Filter=\"Ks\" and inf.ID == data.ID_fitsfile  \n",
    "        AND ABS(data.Flux1 - ((SELECT AVG(data.Flux1) FROM All_data as data WHERE data.Filter=\"Ks\"\n",
    "        AND data.StarID == data.StarID GROUP BY data.StarID))) > ABS(20*data.dFlux1)\"\"\"\n",
    "\n",
    "Q3_1 = pd.read_sql(Q3_que_1, con)\n",
    "\n",
    "Ks_1 = Q3_1[Q3_1.fil  ==\"Ks\"]\n",
    "Ks4 = Q3_1[Q3_1.fil  ==\"Ks\"][Ks_1.ident==4]\n",
    "Ks5 = Q3_1[Q3_1.fil  ==\"Ks\"][Ks_1.ident==5]\n",
    "Ks6 = Q3_1[Q3_1.fil  ==\"Ks\"][Ks_1.ident==6]\n",
    "\n",
    "print 'Objects that fulfil the requirement in field 1:   ', len(Q3_1)\n",
    "\n",
    "# For field 2:\n",
    "Q3_que_2 = \"\"\"SELECT inf.ID as ident, inf.Filter as fil, inf.FieldID as field, data.Flux1 as flux, data.StarID\n",
    "        as starid FROM info as inf, All_data as data WHERE field=\"2\" AND data.Filter=\"Ks\" and inf.ID == data.ID_fitsfile  \n",
    "        AND ABS(data.Flux1 - ((SELECT AVG(data.Flux1) FROM All_data as data WHERE data.Filter=\"Ks\"\n",
    "        AND data.StarID == data.StarID GROUP BY data.StarID))) > ABS(20*data.dFlux1)\"\"\"\n",
    "\n",
    "Q3_2 = pd.read_sql(Q3_que_2, con)\n",
    "\n",
    "Ks_2 = Q3_2[Q3_2.fil  ==\"Ks\"]\n",
    "Ks11 = Q3_2[Q3_2.fil  ==\"Ks\"][Ks_2.ident==11]\n",
    "\n",
    "print 'Objects that fulfil the requirement in field 2:   ', len(Q3_2)\n",
    "\n",
    "# For field 3:\n",
    "Q3_que_3 = \"\"\"SELECT inf.ID as ident, inf.Filter as fil, inf.FieldID as field, data.Flux1 as flux, data.StarID\n",
    "        as starid FROM info as inf, All_data as data WHERE field=\"3\" AND data.Filter=\"Ks\" and inf.ID == data.ID_fitsfile  \n",
    "        AND ABS(data.Flux1 - ((SELECT AVG(data.Flux1) FROM All_data as data WHERE data.Filter=\"Ks\"\n",
    "        AND data.StarID == data.StarID GROUP BY data.StarID))) > ABS(20*data.dFlux1)\"\"\"\n",
    "\n",
    "Q3_3 = pd.read_sql(Q3_que_3, con)\n",
    "\n",
    "Ks_3 = Q3_3[Q3_3.fil  ==\"Ks\"]\n",
    "Ks16 = Q3_3[Q3_3.fil  ==\"Ks\"][Ks_3.ident==16]\n",
    "Ks17 = Q3_3[Q3_3.fil  ==\"Ks\"][Ks_3.ident==17]\n",
    "\n",
    "# Print the results for each field but most importantly for all the files with Ks:\n",
    "print 'Objects that fulfil the requirement in field 3:   ', len(Q3_3)\n",
    "print '\\n'\n",
    "print 'Objects that fulfil the condition in file \"4\":   ', len(Ks4)\n",
    "print 'Objects that fulfil the condition in file \"5\":   ', len(Ks5)\n",
    "print 'Objects that fulfil the condition in file \"6\":   ', len(Ks6)\n",
    "print 'Objects that fulfil the condition in file \"11\":  ', len(Ks11)\n",
    "print 'Objects that fulfil the condition in file \"16\":  ', len(Ks16)\n",
    "print 'Objects that fulfil the condition in file \"17\":  ', len(Ks17)"
   ]
  },
  {
   "cell_type": "code",
   "execution_count": 38,
   "metadata": {
    "collapsed": false
   },
   "outputs": [],
   "source": [
    "# Just in case the definition of this question was not well interpreted, \n",
    "# I also designed a query that assumes Flux1>20*dFlux1 as the condition on the flux uncertainty.\n",
    "# In that case, please just uncomment this section and forget about the previous interpretation.\n",
    "\n",
    "\n",
    "#Q3_que = \"\"\"SELECT inf.ID as ident, inf.Filter as fil, data.Flux1 as flux, data.StarID as starid FROM info as inf,\n",
    "        #All_data as data WHERE data.Filter=\"Ks\" and inf.ID == data.ID_fitsfile  \n",
    "        #AND data.Flux1 >  ABS(20*data.dFlux1)\"\"\"\n",
    "\n",
    "#Q3 = pd.read_sql(Q3_que, con)\n",
    "\n",
    "#Ks = Q3[Q3.fil  ==\"Ks\"]\n",
    "#Ks4 = Q3[Q3.fil  ==\"Ks\"][Ks.ident==4]\n",
    "#Ks5 = Q3[Q3.fil  ==\"Ks\"][Ks.ident==5]\n",
    "#Ks6 = Q3[Q3.fil  ==\"Ks\"][Ks.ident==6]\n",
    "#Ks11 = Q3[Q3.fil  ==\"Ks\"][Ks.ident==11]\n",
    "#Ks16 = Q3[Q3.fil  ==\"Ks\"][Ks.ident==16]\n",
    "#Ks17 = Q3[Q3.fil  ==\"Ks\"][Ks.ident==17]\n",
    "\n",
    "# The total number of objects\n",
    "#print len(Q3)\n",
    "\n",
    "#The number in each individual case\n",
    "#print 'Objects where Flux1 > 20*dFlux1 in file \"4\":   ', len(Ks4)\n",
    "#print 'Objects where Flux1 > 20*dFlux1 in file \"5\":   ', len(Ks5)\n",
    "#print 'Objects where Flux1 > 20*dFlux1 in file \"6\":   ', len(Ks6)\n",
    "#print 'Objects where Flux1 > 20*dFlux1 in file \"11\":  ', len(Ks11)\n",
    "#print 'Objects where Flux1 > 20*dFlux1 in file \"16\":  ', len(Ks16)\n",
    "#print 'Objects where Flux1 > 20*dFlux1 in file \"17\":  ', len(Ks17)"
   ]
  },
  {
   "cell_type": "code",
   "execution_count": 39,
   "metadata": {
    "collapsed": false
   },
   "outputs": [
    {
     "data": {
      "image/png": "[encoded data removed]",
      "text/plain": [
       "<matplotlib.figure.Figure at 0x7fe6a7a137d0>"
      ]
     },
     "metadata": {},
     "output_type": "display_data"
    }
   ],
   "source": [
    "# Plot the results of the query in a pie chart\n",
    "\n",
    "labels = 'Catalogue 4', 'Catalogue 5', 'Catalogue 6', 'Catalogue 11', 'Catalogue 16', 'Catalogue 17'\n",
    "sizes = [len(Ks4), len(Ks5), len(Ks6), len(Ks11), len(Ks16), len(Ks17)]\n",
    "colors = ['gold', 'yellowgreen', 'lightcoral', 'lightskyblue']\n",
    " \n",
    "plt.pie(sizes, labels=labels, colors=colors, autopct='%1.1f%%', shadow=True, startangle=140)\n",
    " \n",
    "plt.axis('equal')\n",
    "plt.savefig('2.png')"
   ]
  },
  {
   "cell_type": "markdown",
   "metadata": {},
   "source": [
    "# a.4 Find all catalogues that exist for a given field"
   ]
  },
  {
   "cell_type": "code",
   "execution_count": 40,
   "metadata": {
    "collapsed": false
   },
   "outputs": [
    {
     "name": "stdout",
     "output_type": "stream",
     "text": [
      "\n",
      "Field 1:\n",
      "File name: Field-1-Z\n",
      "File name: Field-1-J\n",
      "File name: Field-1-H\n",
      "File name: Field-1-Ks-E002\n",
      "File name: Field-1-Ks-E001\n",
      "File name: Field-1-Ks-E003\n",
      "File name: Field-1-Y\n",
      "\n",
      "Field 2:\n",
      "File name: Field-2-Z\n",
      "File name: Field-2-J\n",
      "File name: Field-2-H\n",
      "File name: Field-2-Ks-E001\n",
      "File name: Field-2-Y\n",
      "\n",
      "Field 3:\n",
      "File name: Field-3-Z\n",
      "File name: Field-3-J\n",
      "File name: Field-3-H\n",
      "File name: Field-3-Ks-E002\n",
      "File name: Field-3-Ks-E001\n",
      "File name: Field-3-Y\n"
     ]
    }
   ],
   "source": [
    "# I have to go through all the fieldsso my initial for loop goes from 1 to 4. \n",
    "for i in range (1, 4):\n",
    "\n",
    "    Q4_que = \"\"\"SELECT fieldid, file FROM (SELECT inf.name_file as file, inf.FieldID as fieldid FROM info as inf) \n",
    "              WHERE fieldid == {}\"\"\".format(i)\n",
    "\n",
    "    Q4 = con.execute(Q4_que)\n",
    "\n",
    "    print ''\n",
    "    # Here I want to get the name of the field in the current run of the loop\n",
    "    print \"Field {}:\".format(i)  \n",
    "    for row in Q4:\n",
    "        # And here I print the name of the files that belong to that field.\n",
    "        print \"File name: {0}\".format(row[1])   "
   ]
  },
  {
   "cell_type": "markdown",
   "metadata": {},
   "source": [
    "# a.5 For a given image I would like to retrieve the Y,Z,J,H and Ks magnitudes for all stars with S/N > 30 in Y,Z,J,H and Ks"
   ]
  },
  {
   "cell_type": "code",
   "execution_count": 41,
   "metadata": {
    "collapsed": false
   },
   "outputs": [
    {
     "name": "stdout",
     "output_type": "stream",
     "text": [
      "Stars with SN>30 in total: 34529\n",
      "\n",
      "Where from each filter we have:\n",
      "\n",
      "Stars with SN>30 in Y:   4218\n",
      "Stars with SN>30 in Z:   3740\n",
      "Stars with SN>30 in J:   4829\n",
      "Stars with SN>30 in H:   6356\n",
      "Stars with SN>30 in Ks4: 4616\n",
      "Stars with SN>30 in Ks5: 4196\n",
      "Stars with SN>30 in Ks11: 0\n",
      "Stars with SN>30 in Ks16: 0\n",
      "Stars with SN>30 in Ks17: 0\n"
     ]
    }
   ],
   "source": [
    "# There are three fields so here we can choose the field that we want to study. This is what the user can chance\n",
    "# accordingly, just comment and uncomment to study the desired field. \n",
    "\n",
    "fieldID = 1\n",
    "#fieldID = 2\n",
    "#fieldID = 3\n",
    "\n",
    "# Write string for query. In this case, I choose field_number 1 and make the filtering according\n",
    "# to S/N >30\n",
    "Q5_que_filter = \"\"\"SELECT inf.ID as ident, inf.Filter as fil, data.Mag1 as mag, data.StarID as starid \n",
    "        FROM info as inf, All_data as data WHERE inf.FieldID == {} AND data.Class=-1 AND inf.ID ==\n",
    "        data.ID_fitsfile AND data.SN > 30\"\"\".format(fieldID)\n",
    "\n",
    "# Execute query\n",
    "Q5_filter = con.execute(Q5_que_filter)\n",
    "\n",
    "# Since I need to use the data, I create a panda data frame with it:\n",
    "Q5 = pd.read_sql(Q5_que_filter, con)\n",
    "\n",
    "# And now select for all the filters using the defined filter:\n",
    "Y   = Q5[(Q5.fil == \"Y\")].mag.values\n",
    "Z   = Q5[(Q5.fil == \"Z\")].mag.values\n",
    "J   = Q5[(Q5.fil == \"J\")].mag.values\n",
    "H   = Q5[(Q5.fil == \"H\")].mag.values\n",
    "Ks  = Q5[Q5.fil  ==\"Ks\"]\n",
    "Ks4 = Q5[Q5.fil  ==\"Ks\"][Ks.ident==4].mag.values\n",
    "Ks5 = Q5[Q5.fil  ==\"Ks\"][Ks.ident==5].mag.values\n",
    "Ks6 = Q5[Q5.fil  ==\"Ks\"][Ks.ident==6].mag.values\n",
    "Ks11 = Q5[Q5.fil  ==\"Ks\"][Ks.ident==11].mag.values\n",
    "Ks16 = Q5[Q5.fil  ==\"Ks\"][Ks.ident==16].mag.values\n",
    "Ks17 = Q5[Q5.fil  ==\"Ks\"][Ks.ident==17].mag.values\n",
    "\n",
    "# Check the number of stars that match the criterium of S/N > 30:\n",
    "print 'Stars with SN>30 in total:', len(Q5.mag)\n",
    "print ''\n",
    "print 'Where from each filter we have:'\n",
    "print ''\n",
    "print 'Stars with SN>30 in Y:  ', len(Q5[(Q5.fil == \"Y\")].mag.values)\n",
    "print 'Stars with SN>30 in Z:  ', len(Q5[(Q5.fil == \"Z\")].mag.values)\n",
    "print 'Stars with SN>30 in J:  ', len(Q5[(Q5.fil == \"J\")].mag.values)\n",
    "print 'Stars with SN>30 in H:  ', len(Q5[(Q5.fil == \"H\")].mag.values)\n",
    "print 'Stars with SN>30 in Ks4:', len(Ks4)\n",
    "print 'Stars with SN>30 in Ks5:', len(Ks5)\n",
    "print 'Stars with SN>30 in Ks11:', len(Ks11)\n",
    "print 'Stars with SN>30 in Ks16:', len(Ks16)\n",
    "print 'Stars with SN>30 in Ks17:', len(Ks17)\n"
   ]
  },
  {
   "cell_type": "code",
   "execution_count": 42,
   "metadata": {
    "collapsed": false
   },
   "outputs": [
    {
     "data": {
      "image/png": "[encoded data removed]",
      "text/plain": [
       "<matplotlib.figure.Figure at 0x7fe5253de9d0>"
      ]
     },
     "metadata": {},
     "output_type": "display_data"
    }
   ],
   "source": [
    "# One way to visualize the data is using a histogram for all the filters:\n",
    "\n",
    "plt.hist(Y,histtype='stepfilled', bins=25, label='Y', alpha=0.3)\n",
    "plt.hist(Z,histtype='stepfilled', bins=25, label='Z', alpha=0.3)\n",
    "plt.hist(J,histtype='stepfilled', bins=25, label='J', alpha=0.3)\n",
    "plt.hist(H,histtype='stepfilled', bins=25, label='H', alpha=0.3)\n",
    "plt.hist(Ks4,histtype='stepfilled', bins=25, label='Ks4', alpha=0.3)\n",
    "plt.hist(Ks5,histtype='stepfilled', bins=25, label='Ks5', alpha=0.3)\n",
    "plt.hist(Ks6,histtype='stepfilled', bins=25, label='Ks6', alpha=0.3)\n",
    "plt.title('Distribution of stars per filter')\n",
    "plt.ylabel(\"Number of stars\".format(25), size=12)\n",
    "plt.xlabel(\"Magnitude\", size=12)\n",
    "plt.legend(bbox_to_anchor=(0.05, 1), loc=2, borderaxespad=0.)\n",
    "plt.savefig('3.png')"
   ]
  },
  {
   "cell_type": "code",
   "execution_count": 43,
   "metadata": {
    "collapsed": false
   },
   "outputs": [
    {
     "name": "stderr",
     "output_type": "stream",
     "text": [
      "/home/juancho/anaconda2/lib/python2.7/site-packages/matplotlib/axes/_axes.py:519: UserWarning: No labelled objects found. Use label='...' kwarg on individual plots.\n",
      "  warnings.warn(\"No labelled objects found. \"\n"
     ]
    },
    {
     "data": {
      "image/png": "[encoded data removed]",
      "text/plain": [
       "<matplotlib.figure.Figure at 0x7fe6a6590a90>"
      ]
     },
     "metadata": {},
     "output_type": "display_data"
    }
   ],
   "source": [
    "# But we see that the distribution is not very clear so it's better to do a histogram for \n",
    "# each filter individually:\n",
    "\n",
    "fig, axs = plt.subplots(2,4)\n",
    "ax = axs.ravel()\n",
    "fig.figsize=(10, 6)\n",
    "\n",
    "ax[0].set_ylabel('Number of Stars')\n",
    "ax[0].hist(Y, color='red', alpha=0.8, label='Y')\n",
    "ax[0].legend(prop={'size': 7}, loc=2)\n",
    "\n",
    "ax[1].hist(Z, color='blue', alpha=0.8, label='Z')\n",
    "ax[1].set_yticklabels([])\n",
    "ax[1].legend(prop={'size': 7}, loc=2)\n",
    "\n",
    "ax[2].hist(J, color='green', alpha=0.8, label='J')\n",
    "ax[2].set_yticklabels([])\n",
    "ax[2].legend(prop={'size': 7}, loc=2)\n",
    "\n",
    "ax[3].hist(H, color='black', alpha=0.8, label='H')\n",
    "ax[3].set_yticklabels([])\n",
    "ax[3].legend(prop={'size': 7}, loc=2)\n",
    "\n",
    "ax[4].hist(Ks4, color='orange', alpha=0.8, label='Ks4')\n",
    "ax[4].set_ylabel('Number of Stars')\n",
    "ax[4].legend(prop={'size': 7}, loc=2)\n",
    "\n",
    "ax[5].hist(Ks5, color='grey', alpha=0.8, label='Ks5')\n",
    "ax[5].set_yticklabels([])\n",
    "ax[5].set_xlabel('Magnitude')\n",
    "ax[5].legend(prop={'size': 7}, loc=2)\n",
    "\n",
    "ax[6].hist(Ks6, color='yellow', alpha=0.8, label='Ks6')\n",
    "ax[6].set_yticklabels([])\n",
    "ax[6].legend(prop={'size': 7}, loc=2)\n",
    "\n",
    "ax[7].set_yticklabels([])\n",
    "ax[7].set_xticklabels([])\n",
    "ax[7].spines['top'].set_visible(False)\n",
    "ax[7].spines['right'].set_visible(False)\n",
    "ax[7].spines['bottom'].set_visible(False)\n",
    "ax[7].spines['left'].set_visible(False)\n",
    "ax[7].get_xaxis().set_ticks([])\n",
    "ax[7].get_yaxis().set_ticks([])\n",
    "ax[7].legend()\n",
    "plt.savefig('4.png')"
   ]
  },
  {
   "cell_type": "code",
   "execution_count": null,
   "metadata": {
    "collapsed": true
   },
   "outputs": [],
   "source": []
  }
 ],
 "metadata": {
  "kernelspec": {
   "display_name": "Python 2",
   "language": "python",
   "name": "python2"
  },
  "language_info": {
   "codemirror_mode": {
    "name": "ipython",
    "version": 2
   },
   "file_extension": ".py",
   "mimetype": "text/x-python",
   "name": "python",
   "nbconvert_exporter": "python",
   "pygments_lexer": "ipython2",
   "version": "2.7.13"
  }
 },
 "nbformat": 4,
 "nbformat_minor": 2
}
